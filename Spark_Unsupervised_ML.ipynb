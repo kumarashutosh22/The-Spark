{
  "nbformat": 4,
  "nbformat_minor": 0,
  "metadata": {
    "colab": {
      "name": "Spark_Unsupervised_ML.ipynb",
      "provenance": [],
      "authorship_tag": "ABX9TyMuIaFtagNOOvHtsjTRwZMc"
    },
    "kernelspec": {
      "name": "python3",
      "display_name": "Python 3"
    }
  },
  "cells": [
    {
      "cell_type": "code",
      "metadata": {
        "id": "152KHgIIQDtZ"
      },
      "source": [
        "# Libraries\r\n",
        "import numpy as np\r\n",
        "import pandas as pd\r\n",
        "\r\n",
        "import matplotlib.pyplot as plt\r\n",
        "import seaborn as sns\r\n",
        "\r\n",
        "plt.style.use('seaborn-whitegrid')\r\n",
        "%matplotlib inline\r\n",
        "\r\n",
        "# the data\r\n",
        "from sklearn import datasets\r\n",
        "\r\n",
        "# for the model\r\n",
        "from sklearn.cluster import KMeans\r\n",
        "\r\n",
        "# the check\r\n",
        "from sklearn.metrics import silhouette_score"
      ],
      "execution_count": 1,
      "outputs": []
    },
    {
      "cell_type": "code",
      "metadata": {
        "id": "utu1auquRILy",
        "colab": {
          "base_uri": "https://localhost:8080/"
        },
        "outputId": "ee73cd4b-f652-492d-929d-8c838eae1524"
      },
      "source": [
        "# loading the iris dataset\r\n",
        "iris = datasets.load_iris()\r\n",
        "df = pd.DataFrame(iris.data,columns=iris.feature_names)\r\n",
        "\r\n",
        "df.info()"
      ],
      "execution_count": 2,
      "outputs": [
        {
          "output_type": "stream",
          "text": [
            "<class 'pandas.core.frame.DataFrame'>\n",
            "RangeIndex: 150 entries, 0 to 149\n",
            "Data columns (total 4 columns):\n",
            " #   Column             Non-Null Count  Dtype  \n",
            "---  ------             --------------  -----  \n",
            " 0   sepal length (cm)  150 non-null    float64\n",
            " 1   sepal width (cm)   150 non-null    float64\n",
            " 2   petal length (cm)  150 non-null    float64\n",
            " 3   petal width (cm)   150 non-null    float64\n",
            "dtypes: float64(4)\n",
            "memory usage: 4.8 KB\n"
          ],
          "name": "stdout"
        }
      ]
    },
    {
      "cell_type": "code",
      "metadata": {
        "id": "yHUGeSxValj8",
        "colab": {
          "base_uri": "https://localhost:8080/",
          "height": 291
        },
        "outputId": "9130f76e-57ba-4ce6-c158-ae100e6898b2"
      },
      "source": [
        "wcss = [] #inertia (within cluster sum square) or total spread\r\n",
        "\r\n",
        "for k in range(1,10):\r\n",
        "    kmeans = KMeans(n_clusters=k)\r\n",
        "    kmeans.fit(df)\r\n",
        "    wcss.append(kmeans.inertia_)\r\n",
        "    \r\n",
        "# Visualization of k values:\r\n",
        "\r\n",
        "plt.plot(range(1,10), wcss, color='red')\r\n",
        "plt.title('Graph of k values and WCSS')\r\n",
        "plt.xlabel('k values')\r\n",
        "plt.ylabel('wcss values')\r\n",
        "plt.show()"
      ],
      "execution_count": 3,
      "outputs": [
        {
          "output_type": "display_data",
          "data": {
            "image/png": "[encoded data removed]",
            "text/plain": [
              "<Figure size 432x288 with 1 Axes>"
            ]
          },
          "metadata": {
            "tags": [],
            "needs_background": "light"
          }
        }
      ]
    },
    {
      "cell_type": "code",
      "metadata": {
        "colab": {
          "base_uri": "https://localhost:8080/"
        },
        "id": "_aNMfjTVG9pi",
        "outputId": "633297f9-d8ce-4bbf-e566-01b3ea8386b0"
      },
      "source": [
        "# The optimum value for k seems to be 3. Let's try\r\n",
        "\r\n",
        "m1 = KMeans(n_clusters=3,random_state=42)\r\n",
        "m1.fit(df)"
      ],
      "execution_count": 4,
      "outputs": [
        {
          "output_type": "execute_result",
          "data": {
            "text/plain": [
              "KMeans(algorithm='auto', copy_x=True, init='k-means++', max_iter=300,\n",
              "       n_clusters=3, n_init=10, n_jobs=None, precompute_distances='auto',\n",
              "       random_state=42, tol=0.0001, verbose=0)"
            ]
          },
          "metadata": {
            "tags": []
          },
          "execution_count": 4
        }
      ]
    },
    {
      "cell_type": "code",
      "metadata": {
        "colab": {
          "base_uri": "https://localhost:8080/"
        },
        "id": "NC7lr68fHKAm",
        "outputId": "e220ebb5-92da-4078-c9e0-8d840870d0d1"
      },
      "source": [
        "from collections import Counter\r\n",
        "Counter(m1.labels_)"
      ],
      "execution_count": 5,
      "outputs": [
        {
          "output_type": "execute_result",
          "data": {
            "text/plain": [
              "Counter({0: 62, 1: 50, 2: 38})"
            ]
          },
          "metadata": {
            "tags": []
          },
          "execution_count": 5
        }
      ]
    },
    {
      "cell_type": "code",
      "metadata": {
        "colab": {
          "base_uri": "https://localhost:8080/"
        },
        "id": "zzBfdVNWZyZD",
        "outputId": "f1e32dda-344e-4b8a-b704-6f9709950f41"
      },
      "source": [
        "m1.cluster_centers_"
      ],
      "execution_count": 6,
      "outputs": [
        {
          "output_type": "execute_result",
          "data": {
            "text/plain": [
              "array([[5.9016129 , 2.7483871 , 4.39354839, 1.43387097],\n",
              "       [5.006     , 3.428     , 1.462     , 0.246     ],\n",
              "       [6.85      , 3.07368421, 5.74210526, 2.07105263]])"
            ]
          },
          "metadata": {
            "tags": []
          },
          "execution_count": 6
        }
      ]
    },
    {
      "cell_type": "code",
      "metadata": {
        "colab": {
          "base_uri": "https://localhost:8080/"
        },
        "id": "fRtekHAGb6Qm",
        "outputId": "40123013-11a0-4287-c5c6-82c4177ec197"
      },
      "source": [
        "m1.inertia_"
      ],
      "execution_count": 7,
      "outputs": [
        {
          "output_type": "execute_result",
          "data": {
            "text/plain": [
              "78.85144142614601"
            ]
          },
          "metadata": {
            "tags": []
          },
          "execution_count": 7
        }
      ]
    },
    {
      "cell_type": "code",
      "metadata": {
        "colab": {
          "base_uri": "https://localhost:8080/"
        },
        "id": "ZADIc-SpcDS5",
        "outputId": "1ca37b00-237e-4738-cc6c-dd8356de2510"
      },
      "source": [
        "silhouette_score(df,m1.labels_)"
      ],
      "execution_count": 8,
      "outputs": [
        {
          "output_type": "execute_result",
          "data": {
            "text/plain": [
              "0.5528190123564091"
            ]
          },
          "metadata": {
            "tags": []
          },
          "execution_count": 8
        }
      ]
    },
    {
      "cell_type": "code",
      "metadata": {
        "id": "ChDizFsuetjj"
      },
      "source": [
        "y_kmeans = m1.labels_"
      ],
      "execution_count": 9,
      "outputs": []
    },
    {
      "cell_type": "code",
      "metadata": {
        "colab": {
          "base_uri": "https://localhost:8080/",
          "height": 617
        },
        "id": "Bn6V6mc_sBe7",
        "outputId": "4df19a67-28a1-4a09-b66f-68f5bbf73634"
      },
      "source": [
        "plt.figure(figsize=(20,10))\r\n",
        "# Visualising the clusters - On the first two columns\r\n",
        "sns.scatterplot(x=df[y_kmeans==0]['sepal length (cm)'],y=df['sepal width (cm)'],label='Iris-setosa')\r\n",
        "sns.scatterplot(x=df[y_kmeans==1]['sepal length (cm)'],y=df['sepal width (cm)'],label='Iris-versicolour')\r\n",
        "sns.scatterplot(x=df[y_kmeans==2]['sepal length (cm)'],y=df['sepal width (cm)'],label='iris-verginica')\r\n",
        "\r\n",
        "# Plotting the centroids of the clusters\r\n",
        "sns.scatterplot(x=m1.cluster_centers_[:, 0], y=m1.cluster_centers_[:,1],label='centroid',s=100)\r\n",
        "\r\n",
        "plt.title('Flower Clusters')\r\n",
        "plt.legend()\r\n",
        "plt.show()"
      ],
      "execution_count": 38,
      "outputs": [
        {
          "output_type": "display_data",
          "data": {
            "image/png": "[encoded data removed]",
            "text/plain": [
              "<Figure size 1440x720 with 1 Axes>"
            ]
          },
          "metadata": {
            "tags": [],
            "needs_background": "light"
          }
        }
      ]
    },
    {
      "cell_type": "code",
      "metadata": {
        "id": "CSwxGs0I5-2_"
      },
      "source": [
        ""
      ],
      "execution_count": null,
      "outputs": []
    }
  ]
}