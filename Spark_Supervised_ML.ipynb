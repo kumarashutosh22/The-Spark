{
  "nbformat": 4,
  "nbformat_minor": 0,
  "metadata": {
    "colab": {
      "name": "Spark_Supervised_ML.ipynb",
      "provenance": [],
      "authorship_tag": "ABX9TyNpKyLAA2qWoQDUKJDo9iqf"
    },
    "kernelspec": {
      "name": "python3",
      "display_name": "Python 3"
    }
  },
  "cells": [
    {
      "cell_type": "code",
      "metadata": {
        "id": "SF5-cCealqsL"
      },
      "source": [
        "import numpy as np   # numerical module\r\n",
        "import pandas as pd  # dataframe\r\n",
        "\r\n",
        "# plotting\r\n",
        "import matplotlib.pyplot as plt\r\n",
        "import seaborn as sns\r\n",
        "\r\n",
        "plt.style.use('seaborn-whitegrid')\r\n",
        "%matplotlib inline\r\n",
        "\r\n",
        "# for the model\r\n",
        "from sklearn.model_selection import train_test_split\r\n",
        "from sklearn.linear_model import LinearRegression\r\n",
        "\r\n",
        "# check\r\n",
        "from sklearn.metrics import mean_absolute_error"
      ],
      "execution_count": 82,
      "outputs": []
    },
    {
      "cell_type": "code",
      "metadata": {
        "colab": {
          "base_uri": "https://localhost:8080/"
        },
        "id": "-2cYhIjCl0am",
        "outputId": "c1f8f15f-1f83-44d2-cc1b-42cb11238e00"
      },
      "source": [
        "# url link to the data\r\n",
        "url = 'https://raw.githubusercontent.com/AdiPersonalWorks/Random/master/student_scores%20-%20student_scores.csv'\r\n",
        "\r\n",
        "# loading the dataframe\r\n",
        "df = pd.read_csv(url)\r\n",
        "\r\n",
        "# checking the column names, shape, dtypes and missing values\r\n",
        "df.info()"
      ],
      "execution_count": 5,
      "outputs": [
        {
          "output_type": "stream",
          "text": [
            "<class 'pandas.core.frame.DataFrame'>\n",
            "RangeIndex: 25 entries, 0 to 24\n",
            "Data columns (total 2 columns):\n",
            " #   Column  Non-Null Count  Dtype  \n",
            "---  ------  --------------  -----  \n",
            " 0   Hours   25 non-null     float64\n",
            " 1   Scores  25 non-null     int64  \n",
            "dtypes: float64(1), int64(1)\n",
            "memory usage: 528.0 bytes\n"
          ],
          "name": "stdout"
        }
      ]
    },
    {
      "cell_type": "code",
      "metadata": {
        "colab": {
          "base_uri": "https://localhost:8080/",
          "height": 206
        },
        "id": "ZxOl3xtkMgrd",
        "outputId": "77039d26-9eaa-4729-95c7-393db134953d"
      },
      "source": [
        "df.head()"
      ],
      "execution_count": 86,
      "outputs": [
        {
          "output_type": "execute_result",
          "data": {
            "text/html": [
              "<div>\n",
              "<style scoped>\n",
              "    .dataframe tbody tr th:only-of-type {\n",
              "        vertical-align: middle;\n",
              "    }\n",
              "\n",
              "    .dataframe tbody tr th {\n",
              "        vertical-align: top;\n",
              "    }\n",
              "\n",
              "    .dataframe thead th {\n",
              "        text-align: right;\n",
              "    }\n",
              "</style>\n",
              "<table border=\"1\" class=\"dataframe\">\n",
              "  <thead>\n",
              "    <tr style=\"text-align: right;\">\n",
              "      <th></th>\n",
              "      <th>Hours</th>\n",
              "      <th>Scores</th>\n",
              "    </tr>\n",
              "  </thead>\n",
              "  <tbody>\n",
              "    <tr>\n",
              "      <th>0</th>\n",
              "      <td>2.5</td>\n",
              "      <td>21</td>\n",
              "    </tr>\n",
              "    <tr>\n",
              "      <th>1</th>\n",
              "      <td>5.1</td>\n",
              "      <td>47</td>\n",
              "    </tr>\n",
              "    <tr>\n",
              "      <th>2</th>\n",
              "      <td>3.2</td>\n",
              "      <td>27</td>\n",
              "    </tr>\n",
              "    <tr>\n",
              "      <th>3</th>\n",
              "      <td>8.5</td>\n",
              "      <td>75</td>\n",
              "    </tr>\n",
              "    <tr>\n",
              "      <th>4</th>\n",
              "      <td>3.5</td>\n",
              "      <td>30</td>\n",
              "    </tr>\n",
              "  </tbody>\n",
              "</table>\n",
              "</div>"
            ],
            "text/plain": [
              "   Hours  Scores\n",
              "0    2.5      21\n",
              "1    5.1      47\n",
              "2    3.2      27\n",
              "3    8.5      75\n",
              "4    3.5      30"
            ]
          },
          "metadata": {
            "tags": []
          },
          "execution_count": 86
        }
      ]
    },
    {
      "cell_type": "code",
      "metadata": {
        "colab": {
          "base_uri": "https://localhost:8080/",
          "height": 291
        },
        "id": "CubxETWYFS8-",
        "outputId": "0f8e20fd-ea9d-489e-f231-16cd78f3e46b"
      },
      "source": [
        "# plotting the data to get some insights\r\n",
        "sns.regplot(x=df['Hours'],y=df['Scores'],seed=42)\r\n",
        "plt.xlabel('Hours studied per day')\r\n",
        "plt.title('Scores vs. Hours studied per day')\r\n",
        "plt.show()"
      ],
      "execution_count": 72,
      "outputs": [
        {
          "output_type": "display_data",
          "data": {
            "image/png": "[encoded data removed]",
            "text/plain": [
              "<Figure size 432x288 with 1 Axes>"
            ]
          },
          "metadata": {
            "tags": [],
            "needs_background": "light"
          }
        }
      ]
    },
    {
      "cell_type": "code",
      "metadata": {
        "colab": {
          "base_uri": "https://localhost:8080/"
        },
        "id": "I5cmcbRL_2uD",
        "outputId": "342168cc-5f41-451e-c5e1-b829b4532de3"
      },
      "source": [
        "# splitting the data\r\n",
        "x = df.iloc[:,:-1].values\r\n",
        "y = df.iloc[:,1].values\r\n",
        "\r\n",
        "# train, test\r\n",
        "xtr,xts,ytr,yts = train_test_split(x,y,test_size=0.1,random_state=42)\r\n",
        "xtr.shape,xts.shape,ytr.shape,yts.shape"
      ],
      "execution_count": 48,
      "outputs": [
        {
          "output_type": "execute_result",
          "data": {
            "text/plain": [
              "((22, 1), (3, 1), (22,), (3,))"
            ]
          },
          "metadata": {
            "tags": []
          },
          "execution_count": 48
        }
      ]
    },
    {
      "cell_type": "code",
      "metadata": {
        "id": "EcEVA4D8A75o"
      },
      "source": [
        "# building a model\r\n",
        "lr = LinearRegression()\r\n",
        "lr.fit(xtr,ytr)\r\n",
        "\r\n",
        "ypr = lr.predict(xts)"
      ],
      "execution_count": 88,
      "outputs": []
    },
    {
      "cell_type": "code",
      "metadata": {
        "colab": {
          "base_uri": "https://localhost:8080/",
          "height": 143
        },
        "id": "SeQF05-NBEBd",
        "outputId": "b9196b46-5d93-4104-9513-e4058cf09c49"
      },
      "source": [
        "pd.DataFrame({'actual':yts,'predicted':map(int,ypr)})\r\n",
        "# As the actual scores are all integers, it only made sense to make all the predicted into integers to"
      ],
      "execution_count": 100,
      "outputs": [
        {
          "output_type": "execute_result",
          "data": {
            "text/html": [
              "<div>\n",
              "<style scoped>\n",
              "    .dataframe tbody tr th:only-of-type {\n",
              "        vertical-align: middle;\n",
              "    }\n",
              "\n",
              "    .dataframe tbody tr th {\n",
              "        vertical-align: top;\n",
              "    }\n",
              "\n",
              "    .dataframe thead th {\n",
              "        text-align: right;\n",
              "    }\n",
              "</style>\n",
              "<table border=\"1\" class=\"dataframe\">\n",
              "  <thead>\n",
              "    <tr style=\"text-align: right;\">\n",
              "      <th></th>\n",
              "      <th>actual</th>\n",
              "      <th>predicted</th>\n",
              "    </tr>\n",
              "  </thead>\n",
              "  <tbody>\n",
              "    <tr>\n",
              "      <th>0</th>\n",
              "      <td>81</td>\n",
              "      <td>83</td>\n",
              "    </tr>\n",
              "    <tr>\n",
              "      <th>1</th>\n",
              "      <td>30</td>\n",
              "      <td>27</td>\n",
              "    </tr>\n",
              "    <tr>\n",
              "      <th>2</th>\n",
              "      <td>21</td>\n",
              "      <td>27</td>\n",
              "    </tr>\n",
              "  </tbody>\n",
              "</table>\n",
              "</div>"
            ],
            "text/plain": [
              "   actual  predicted\n",
              "0      81         83\n",
              "1      30         27\n",
              "2      21         27"
            ]
          },
          "metadata": {
            "tags": []
          },
          "execution_count": 100
        }
      ]
    },
    {
      "cell_type": "code",
      "metadata": {
        "colab": {
          "base_uri": "https://localhost:8080/",
          "height": 291
        },
        "id": "sSUlEvsHEC-Z",
        "outputId": "54d4779c-ef18-4792-ef4b-ff23713ac802"
      },
      "source": [
        "sns.scatterplot(data=df,x='Hours',y='Scores',color='r')\r\n",
        "plt.plot(x,lr.intercept_+lr.coef_*x,color='c')\r\n",
        "plt.title('Fit of the model')\r\n",
        "plt.show()"
      ],
      "execution_count": 65,
      "outputs": [
        {
          "output_type": "display_data",
          "data": {
            "image/png": "[encoded data removed]",
            "text/plain": [
              "<Figure size 432x288 with 1 Axes>"
            ]
          },
          "metadata": {
            "tags": [],
            "needs_background": "light"
          }
        }
      ]
    },
    {
      "cell_type": "code",
      "metadata": {
        "colab": {
          "base_uri": "https://localhost:8080/"
        },
        "id": "aR2VWruaG6R5",
        "outputId": "6408d741-f356-4491-c07f-aa46e792e762"
      },
      "source": [
        "# predicting the score when studied for 9.5 hours\r\n",
        "\r\n",
        "hour = [[9.25]]\r\n",
        "score = lr.predict(hour)\r\n",
        "print(f'By studying for {hour[0][0]} it is predicted that {round(score[0])} marks can be obtained.')"
      ],
      "execution_count": 96,
      "outputs": [
        {
          "output_type": "stream",
          "text": [
            "By studying for 9.25 it is predicted that 93 marks can be obtained.\n"
          ],
          "name": "stdout"
        }
      ]
    },
    {
      "cell_type": "code",
      "metadata": {
        "colab": {
          "base_uri": "https://localhost:8080/"
        },
        "id": "-BpUPapQKiF-",
        "outputId": "096e4e1b-fcc7-43ec-af78-168cb04f2b58"
      },
      "source": [
        "# checking the mean absolute error\r\n",
        "\r\n",
        "print(f'Mean Absolute Error: {mean_absolute_error(y_true=yts,y_pred=ypr)}')"
      ],
      "execution_count": 98,
      "outputs": [
        {
          "output_type": "stream",
          "text": [
            "Mean Absolute Error: 3.9657593887812084\n"
          ],
          "name": "stdout"
        }
      ]
    },
    {
      "cell_type": "code",
      "metadata": {
        "id": "-GsufDQvMDGc"
      },
      "source": [
        ""
      ],
      "execution_count": null,
      "outputs": []
    }
  ]
}